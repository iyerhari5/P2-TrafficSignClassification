{
 "cells": [
  {
   "cell_type": "markdown",
   "metadata": {},
   "source": [
    "# Self-Driving Car Engineer Nanodegree\n",
    "\n",
    "## Deep Learning\n",
    "\n",
    "## Project: Build a Traffic Sign Recognition Classifier\n",
    "\n",
    "In this notebook, a template is provided for you to implement your functionality in stages, which is required to successfully complete this project. If additional code is required that cannot be included in the notebook, be sure that the Python code is successfully imported and included in your submission if necessary. \n",
    "\n",
    "> **Note**: Once you have completed all of the code implementations, you need to finalize your work by exporting the iPython Notebook as an HTML document. Before exporting the notebook to html, all of the code cells need to have been run so that reviewers can see the final implementation and output. You can then export the notebook by using the menu above and navigating to  \\n\",\n",
    "    \"**File -> Download as -> HTML (.html)**. Include the finished document along with this notebook as your submission. \n",
    "\n",
    "In addition to implementing code, there is a writeup to complete. The writeup should be completed in a separate file, which can be either a markdown file or a pdf document. There is a [write up template](https://github.com/udacity/CarND-Traffic-Sign-Classifier-Project/blob/master/writeup_template.md) that can be used to guide the writing process. Completing the code template and writeup template will cover all of the [rubric points](https://review.udacity.com/#!/rubrics/481/view) for this project.\n",
    "\n",
    "The [rubric](https://review.udacity.com/#!/rubrics/481/view) contains \"Stand Out Suggestions\" for enhancing the project beyond the minimum requirements. The stand out suggestions are optional. If you decide to pursue the \"stand out suggestions\", you can include the code in this Ipython notebook and also discuss the results in the writeup file.\n",
    "\n",
    "\n",
    ">**Note:** Code and Markdown cells can be executed using the **Shift + Enter** keyboard shortcut. In addition, Markdown cells can be edited by typically double-clicking the cell to enter edit mode."
   ]
  },
  {
   "cell_type": "markdown",
   "metadata": {},
   "source": [
    "---\n",
    "## Step 0: Load The Data"
   ]
  },
  {
   "cell_type": "code",
   "execution_count": 1,
   "metadata": {
    "collapsed": true
   },
   "outputs": [],
   "source": [
    "# Load pickled data\n",
    "import pickle\n",
    "\n",
    "# TODO: Fill this in based on where you saved the training and testing data\n",
    "\n",
    "training_file = './traffic-signs-data/train.p'\n",
    "validation_file= './traffic-signs-data/valid.p'\n",
    "testing_file = './traffic-signs-data/test.p'\n",
    "\n",
    "with open(training_file, mode='rb') as f:\n",
    "    train = pickle.load(f)\n",
    "with open(validation_file, mode='rb') as f:\n",
    "    valid = pickle.load(f)\n",
    "with open(testing_file, mode='rb') as f:\n",
    "    test = pickle.load(f)\n",
    "    \n",
    "X_train, y_train = train['features'], train['labels']\n",
    "X_valid, y_valid = valid['features'], valid['labels']\n",
    "X_test, y_test = test['features'], test['labels']"
   ]
  },
  {
   "cell_type": "markdown",
   "metadata": {},
   "source": [
    "---\n",
    "\n",
    "## Step 1: Dataset Summary & Exploration\n",
    "\n",
    "The pickled data is a dictionary with 4 key/value pairs:\n",
    "\n",
    "- `'features'` is a 4D array containing raw pixel data of the traffic sign images, (num examples, width, height, channels).\n",
    "- `'labels'` is a 1D array containing the label/class id of the traffic sign. The file `signnames.csv` contains id -> name mappings for each id.\n",
    "- `'sizes'` is a list containing tuples, (width, height) representing the original width and height the image.\n",
    "- `'coords'` is a list containing tuples, (x1, y1, x2, y2) representing coordinates of a bounding box around the sign in the image. **THESE COORDINATES ASSUME THE ORIGINAL IMAGE. THE PICKLED DATA CONTAINS RESIZED VERSIONS (32 by 32) OF THESE IMAGES**\n",
    "\n",
    "Complete the basic data summary below. Use python, numpy and/or pandas methods to calculate the data summary rather than hard coding the results. For example, the [pandas shape method](http://pandas.pydata.org/pandas-docs/stable/generated/pandas.DataFrame.shape.html) might be useful for calculating some of the summary results. "
   ]
  },
  {
   "cell_type": "markdown",
   "metadata": {},
   "source": [
    "### Provide a Basic Summary of the Data Set Using Python, Numpy and/or Pandas"
   ]
  },
  {
   "cell_type": "code",
   "execution_count": null,
   "metadata": {
    "collapsed": true
   },
   "outputs": [],
   "source": [
    "### Replace each question mark with the appropriate value. \n",
    "### Use python, pandas or numpy methods rather than hard coding the results\n",
    "\n",
    "import numpy as np\n",
    "\n",
    "# TODO: Number of training examples\n",
    "n_train = len(X_train)\n",
    "\n",
    "# TODO: Number of validation examples\n",
    "n_validation = len(X_valid)\n",
    "\n",
    "# TODO: Number of testing examples.\n",
    "n_test = len(X_test)\n",
    "\n",
    "# TODO: What's the shape of an traffic sign image?\n",
    "image_shape = X_train[0].shape\n",
    "\n",
    "# TODO: How many unique classes/labels there are in the dataset.\n",
    "d = np.unique(y_train)\n",
    "n_classes = len(d)\n",
    "\n",
    "print(\"Number of training examples =\", n_train)\n",
    "print(\"Number of testing examples =\", n_test)\n",
    "print(\"Image data shape =\", image_shape)\n",
    "print(\"Number of classes =\", n_classes)"
   ]
  },
  {
   "cell_type": "markdown",
   "metadata": {},
   "source": [
    "### Include an exploratory visualization of the dataset"
   ]
  },
  {
   "cell_type": "markdown",
   "metadata": {},
   "source": [
    "Visualize the German Traffic Signs Dataset using the pickled file(s). This is open ended, suggestions include: plotting traffic sign images, plotting the count of each sign, etc. \n",
    "\n",
    "The [Matplotlib](http://matplotlib.org/) [examples](http://matplotlib.org/examples/index.html) and [gallery](http://matplotlib.org/gallery.html) pages are a great resource for doing visualizations in Python.\n",
    "\n",
    "**NOTE:** It's recommended you start with something simple first. If you wish to do more, come back to it after you've completed the rest of the sections. It can be interesting to look at the distribution of classes in the training, validation and test set. Is the distribution the same? Are there more examples of some classes than others?"
   ]
  },
  {
   "cell_type": "code",
   "execution_count": null,
   "metadata": {
    "collapsed": true
   },
   "outputs": [],
   "source": [
    "### Data exploration visualization code goes here.\n",
    "### Feel free to use as many code cells as needed.\n",
    "import matplotlib.pyplot as plt\n",
    "# Visualizations will be shown in the notebook.\n",
    "%matplotlib inline\n",
    "\n",
    "plt.hist(y_train, bins='auto')  # arguments are passed to np.histogram\n",
    "plt.title(\"Distribution of training set classes\")\n",
    "plt.show()\n",
    "\n",
    "plt.hist(y_valid, bins='auto')  # arguments are passed to np.histogram\n",
    "plt.title(\"Distribution of validation set classes\")\n",
    "plt.show()\n",
    "\n",
    "plt.hist(y_test, bins='auto')  # arguments are passed to np.histogram\n",
    "plt.title(\"Distribution of testing set classes\")\n",
    "plt.show()"
   ]
  },
  {
   "cell_type": "markdown",
   "metadata": {},
   "source": [
    "----\n",
    "\n",
    "## Step 2: Design and Test a Model Architecture\n",
    "\n",
    "Design and implement a deep learning model that learns to recognize traffic signs. Train and test your model on the [German Traffic Sign Dataset](http://benchmark.ini.rub.de/?section=gtsrb&subsection=dataset).\n",
    "\n",
    "The LeNet-5 implementation shown in the [classroom](https://classroom.udacity.com/nanodegrees/nd013/parts/fbf77062-5703-404e-b60c-95b78b2f3f9e/modules/6df7ae49-c61c-4bb2-a23e-6527e69209ec/lessons/601ae704-1035-4287-8b11-e2c2716217ad/concepts/d4aca031-508f-4e0b-b493-e7b706120f81) at the end of the CNN lesson is a solid starting point. You'll have to change the number of classes and possibly the preprocessing, but aside from that it's plug and play! \n",
    "\n",
    "With the LeNet-5 solution from the lecture, you should expect a validation set accuracy of about 0.89. To meet specifications, the validation set accuracy will need to be at least 0.93. It is possible to get an even higher accuracy, but 0.93 is the minimum for a successful project submission. \n",
    "\n",
    "There are various aspects to consider when thinking about this problem:\n",
    "\n",
    "- Neural network architecture (is the network over or underfitting?)\n",
    "- Play around preprocessing techniques (normalization, rgb to grayscale, etc)\n",
    "- Number of examples per label (some have more than others).\n",
    "- Generate fake data.\n",
    "\n",
    "Here is an example of a [published baseline model on this problem](http://yann.lecun.com/exdb/publis/pdf/sermanet-ijcnn-11.pdf). It's not required to be familiar with the approach used in the paper but, it's good practice to try to read papers like these."
   ]
  },
  {
   "cell_type": "markdown",
   "metadata": {},
   "source": [
    "### Pre-process the Data Set (normalization, grayscale, etc.)"
   ]
  },
  {
   "cell_type": "markdown",
   "metadata": {},
   "source": [
    "Minimally, the image data should be normalized so that the data has mean zero and equal variance. For image data, `(pixel - 128)/ 128` is a quick way to approximately normalize the data and can be used in this project. \n",
    "\n",
    "Other pre-processing steps are optional. You can try different techniques to see if it improves performance. \n",
    "\n",
    "Use the code cell (or multiple code cells, if necessary) to implement the first step of your project."
   ]
  },
  {
   "cell_type": "code",
   "execution_count": 2,
   "metadata": {},
   "outputs": [
    {
     "name": "stdout",
     "output_type": "stream",
     "text": [
      "(34799, 32, 32, 1)\n"
     ]
    }
   ],
   "source": [
    "### Preprocess the data here. It is required to normalize the data. Other preprocessing steps could include \n",
    "### converting to grayscale, etc.\n",
    "### Feel free to use as many code cells as needed.\n",
    "from skimage import exposure\n",
    "\n",
    "X_train = 0.299 * X_train[:, :, :, 0] + 0.587 * X_train[:, :, :, 1] + 0.114 * X_train[:, :, :, 2]\n",
    "X_valid = 0.299 * X_valid[:, :, :, 0] + 0.587 * X_valid[:, :, :, 1] + 0.114 * X_valid[:, :, :, 2]\n",
    "X_test  = 0.299 * X_test[:, :, :, 0] + 0.587 * X_test[:, :, :, 1] + 0.114 * X_test[:, :, :, 2]\n",
    "\n",
    "X_train = (X_train-128.0)/128.0\n",
    "X_valid = (X_valid-128.0)/128.0\n",
    "X_test  = (X_test-128.0)/128.0\n",
    "\n",
    "\n",
    "#for i in range(X_train.shape[0]):\n",
    "#    X_train[i] = exposure.equalize_adapthist(X_train[i].astype(np.uint8))\n",
    "#        \n",
    "#for i in range(X_valid.shape[0]):\n",
    "#    X_valid[i] = exposure.equalize_adapthist(X_valid[i].astype(np.uint8))\n",
    "#\n",
    "#for i in range(X_valid.shape[0]):\n",
    "#    X_test[i] = exposure.equalize_adapthist(X_test[i].astype(np.uint8))\n",
    "#    \n",
    "#    \n",
    "##Add the last dimension back\n",
    "X_train = X_train.reshape(X_train.shape + (1,)) \n",
    "X_valid = X_valid.reshape(X_valid.shape + (1,)) \n",
    "X_test  = X_test.reshape(X_test.shape + (1,)) \n",
    "\n",
    "print(X_train.shape)"
   ]
  },
  {
   "cell_type": "code",
   "execution_count": null,
   "metadata": {
    "collapsed": true
   },
   "outputs": [],
   "source": [
    "normalized_train ={}\n",
    "normalized_train[\"features\"] = X_train\n",
    "normalized_train[\"labels\"] = y_train\n",
    "file = './traffic-signs-data/normalized_train.p'\n",
    "pickle.dump( normalized_train, open(file, \"wb\" ) )\n",
    "\n",
    "normalized_valid ={}\n",
    "normalized_valid[\"features\"] = X_valid\n",
    "normalized_valid[\"labels\"] = y_valid\n",
    "file = './traffic-signs-data/normalized_valid.p'\n",
    "pickle.dump( normalized_valid, open(file, \"wb\" ) )\n",
    "\n",
    "normalized_test ={}\n",
    "normalized_test[\"features\"] = X_test\n",
    "normalized_test[\"labels\"] = y_test\n",
    "file = './traffic-signs-data/normalized_test.p'\n",
    "pickle.dump( normalized_test, open(file, \"wb\" ) )\n",
    "\n"
   ]
  },
  {
   "cell_type": "code",
   "execution_count": 175,
   "metadata": {},
   "outputs": [
    {
     "name": "stdout",
     "output_type": "stream",
     "text": [
      "34799\n",
      "(34799, 32, 32, 1)\n",
      "(34799,)\n",
      "4410\n",
      "12630\n"
     ]
    }
   ],
   "source": [
    "# Load pickled data\n",
    "import pickle\n",
    "\n",
    "file = './traffic-signs-data/normalized_train.p'\n",
    "with open(file, mode='rb') as f:\n",
    "    train_norm = pickle.load(f)\n",
    "    \n",
    "X_train, y_train = train_norm['features'], train_norm['labels']\n",
    "print(len(X_train))\n",
    "\n",
    "file = './traffic-signs-data/normalized_valid.p'\n",
    "with open(file, mode='rb') as f:\n",
    "    valid_norm = pickle.load(f)\n",
    "    \n",
    "X_valid, y_valid = valid_norm['features'], valid_norm['labels']\n",
    "print(len(X_valid))\n",
    "\n",
    "file = './traffic-signs-data/normalized_test.p'\n",
    "with open(file, mode='rb') as f:\n",
    "    test_norm = pickle.load(f)\n",
    "    \n",
    "X_test, y_test = test_norm['features'], test_norm['labels']\n",
    "print(len(X_test))"
   ]
  },
  {
   "cell_type": "code",
   "execution_count": 5,
   "metadata": {},
   "outputs": [
    {
     "name": "stdout",
     "output_type": "stream",
     "text": [
      "Sample  0\n",
      "5\n",
      "[38]\n",
      "[38]\n",
      "[38]\n",
      "[38]\n",
      "[38]\n"
     ]
    },
    {
     "data": {
      "image/png": "[encoded data removed]",
      "text/plain": [
       "<matplotlib.figure.Figure at 0x7ffa9c0b1908>"
      ]
     },
     "metadata": {},
     "output_type": "display_data"
    },
    {
     "data": {
      "image/png": "[encoded data removed]",
      "text/plain": [
       "<matplotlib.figure.Figure at 0x7ffa165289e8>"
      ]
     },
     "metadata": {},
     "output_type": "display_data"
    },
    {
     "data": {
      "image/png": "[encoded data removed]",
      "text/plain": [
       "<matplotlib.figure.Figure at 0x7ffa166323c8>"
      ]
     },
     "metadata": {},
     "output_type": "display_data"
    },
    {
     "data": {
      "image/png": "[encoded data removed]",
      "text/plain": [
       "<matplotlib.figure.Figure at 0x7ffa16528e80>"
      ]
     },
     "metadata": {},
     "output_type": "display_data"
    },
    {
     "data": {
      "image/png": "[encoded data removed]",
      "text/plain": [
       "<matplotlib.figure.Figure at 0x7ffa1662ada0>"
      ]
     },
     "metadata": {},
     "output_type": "display_data"
    }
   ],
   "source": [
    "import random\n",
    "import numpy as np\n",
    "import matplotlib.pyplot as plt\n",
    "%matplotlib inline\n",
    "\n",
    "index = random.randint(0, len(X_train))\n",
    "image = X_train[index].squeeze()\n",
    "\n",
    "temp = X_train[index].reshape([1,32,32,1])\n",
    "X_1, y_1  = augment_persample(temp, y_train[index].reshape([1,1]),1)\n",
    "\n",
    "for i in range(0,X_1.shape[0]):\n",
    "    plt.figure(figsize=(1,i+2))\n",
    "    plt.imshow(X_1[i].squeeze(), cmap=\"gray\")\n",
    "    print(y_1[i])"
   ]
  },
  {
   "cell_type": "code",
   "execution_count": 3,
   "metadata": {},
   "outputs": [
    {
     "name": "stderr",
     "output_type": "stream",
     "text": [
      "Using TensorFlow backend.\n"
     ]
    }
   ],
   "source": [
    "#Data augmentation\n",
    "import numpy as np\n",
    "import numpy.random as random\n",
    "#from sklearn.model_selection import train_test_split\n",
    "#import cv2\n",
    "from skimage import img_as_ubyte\n",
    "from skimage.transform import rotate\n",
    "from skimage.transform import warp\n",
    "from skimage.transform import ProjectiveTransform\n",
    "from skimage.transform import AffineTransform\n",
    "from keras.preprocessing.image import ImageDataGenerator\n",
    "import matplotlib.pyplot as plt\n",
    "%matplotlib inline\n",
    "\n",
    "\n",
    "\n",
    "def add_gaussian_noise(image,mean,sigma):\n",
    "    num, row,col,ch= image.shape\n",
    "    gauss = np.random.normal(mean,sigma,(num,row,col,ch))\n",
    "    gauss = gauss.reshape(num,row,col,ch)\n",
    "    noisy = image + gauss\n",
    "    return noisy\n",
    "\n",
    "def rotateImages(Xb, multFactor):\n",
    "        \"\"\"\n",
    "        Random Rotation to Image\n",
    "        \"\"\"\n",
    "        result = []\n",
    "        \n",
    "        delta = 30. * multFactor\n",
    "        for i in range(0,Xb.shape[0]):\n",
    "            angle = random.uniform(-delta, delta)\n",
    "            #print(angle)\n",
    "            result.append(rotate(Xb[i],angle , mode = 'edge'))\n",
    "        \n",
    "        return result  \n",
    "    \n",
    "def translateImages(Xb,image_size, multFactor):\n",
    "        \"\"\"\n",
    "        Random translation to Image\n",
    "        \"\"\"\n",
    "       \n",
    "        result = []\n",
    "        \n",
    "        d = image_size  * multFactor\n",
    "        for i in range(0,Xb.shape[0]):\n",
    "            tx = random.uniform(-d, d)\n",
    "            ty = random.uniform(-d, d)\n",
    "            #print([tx, ty])\n",
    "            transform = AffineTransform(translation=[tx,ty])\n",
    "            result.append(warp(Xb[i], transform, output_shape=(image_size, image_size), order = 1, mode = 'edge'))\n",
    "                    \n",
    "        return result  \n",
    "\n",
    "def zoomImages(Xb,zoom):\n",
    "        \"\"\"\n",
    "        Random translation to Image\n",
    "        \"\"\"\n",
    "       \n",
    "        result = []\n",
    "        image_size = Xb.shape[1]\n",
    "        for i in range(0,Xb.shape[0]):\n",
    "            affineMat = np.zeros([3,3])\n",
    "            affineMat[0][0] = zoom\n",
    "            affineMat[1][1] = zoom\n",
    "            affineMat[2][2] = 1\n",
    "            transform = AffineTransform(affineMat)# AffineTransform(translation=[tx,ty])\n",
    "            result.append(warp(Xb[i], transform, output_shape=(image_size, image_size), order = 1, mode = 'edge'))\n",
    "                    \n",
    "        return result  \n",
    "\n",
    "def apply_projection_transform(Xb,image_size, multFactor):\n",
    "        \"\"\"\n",
    "        Random projection to image.\n",
    "        \"\"\"\n",
    "        result = []\n",
    "        \n",
    "        d = image_size  * multFactor\n",
    "        for i in range(0,Xb.shape[0]):       \n",
    "            tl_top = random.uniform(-d, d)     # Top left corner, top margin\n",
    "            tl_left = random.uniform(-d, d)    # Top left corner, left margin\n",
    "            bl_bottom = random.uniform(-d, d)  # Bottom left corner, bottom margin\n",
    "            bl_left = random.uniform(-d, d)    # Bottom left corner, left margin\n",
    "            tr_top = random.uniform(-d, d)     # Top right corner, top margin\n",
    "            tr_right = random.uniform(-d, d)   # Top right corner, right margin\n",
    "            br_bottom = random.uniform(-d, d)  # Bottom right corner, bottom margin\n",
    "            br_right = random.uniform(-d, d)   # Bottom right corner, right margin\n",
    "\n",
    "            transform = ProjectiveTransform()\n",
    "            transform.estimate(np.array((\n",
    "                    (tl_left, tl_top),\n",
    "                    (bl_left, image_size - bl_bottom),\n",
    "                    (image_size - br_right, image_size - br_bottom),\n",
    "                    (image_size - tr_right, tr_top)\n",
    "                )), np.array((\n",
    "                    (0, 0),\n",
    "                    (0, image_size),\n",
    "                    (image_size, image_size),\n",
    "                    (image_size, 0)\n",
    "                )))\n",
    "            result.append( warp(Xb[i], transform, output_shape=(image_size, image_size), order = 1, mode = 'edge'))\n",
    "\n",
    "        return result\n",
    "\n",
    "def image_flip(X, y):\n",
    "    self_flippable_horizontally = np.array([11, 12, 13, 15, 17, 18, 22, 26, 30, 35])\n",
    "    self_flippable_vertically = np.array([1, 5, 12, 15, 17])\n",
    "    self_flippable_both = narray([32, 40])\n",
    "    cross_flippable = np.array([\n",
    "        [19, 20], \n",
    "        [33, 34], \n",
    "        [36, 37], \n",
    "        [38, 39],\n",
    "        [34, 33], \n",
    "        [39, 38],\n",
    "        [37, 36],\n",
    "        [20, 19]\n",
    "    ])\n",
    "    num_classes = 43\n",
    "    \n",
    "    X_extended = np.empty([0, X.shape[1], X.shape[2], X.shape[3]], dtype = X.dtype)\n",
    "    y_extended = np.empty([0], dtype = y.dtype)\n",
    "    \n",
    "    for c in range(num_classes):\n",
    "        X_extended = np.append(X_extended, X[y == c], axis = 0)\n",
    "        X_extended = np.append(X_extended, add_gaussian_noise(X[y == c],0,0.1),axis=0)\n",
    "        if c in self_flippable_horizontally:\n",
    "            X_extended = np.append(X_extended, X[y == c][:, :, ::-1, :], axis = 0)\n",
    "        if c in cross_flippable[:, 0]:\n",
    "            flip_class = cross_flippable[cross_flippable[:, 0] == c][0][1]\n",
    "            X_extended = np.append(X_extended, X[y == flip_class][:, :, ::-1, :], axis = 0)\n",
    "        y_extended = np.append(y_extended, np.full((X_extended.shape[0] - y_extended.shape[0]), c, dtype = int))\n",
    "        \n",
    "        if c in self_flippable_vertically:\n",
    "            X_extended = np.append(X_extended, X_extended[y_extended == c][:, ::-1, :, :], axis = 0)\n",
    "        y_extended = np.append(y_extended, np.full((X_extended.shape[0] - y_extended.shape[0]), c, dtype = int))\n",
    "        \n",
    "        if c in self_flippable_both:\n",
    "            X_extended = np.append(X_extended, X_extended[y_extended == c][:, ::-1, ::-1, :], axis = 0)\n",
    "        y_extended = np.append(y_extended, np.full((X_extended.shape[0] - y_extended.shape[0]), c, dtype = int))\n",
    "    \n",
    "    return (X_extended, y_extended)\n",
    "\n",
    "def augment_rotation(X,y):\n",
    "    X_rotated = rotateImages(X,0.5)\n",
    "    X_extended  = np.append(X,X_rotated,axis=0)\n",
    "    y_extended  = np.append(y,y)\n",
    "    return (X_extended, y_extended)\n",
    "\n",
    "def augment_projective(X,y):\n",
    "    X_projected = apply_projection_transform(X,32,0.3)\n",
    "    X_extended  = np.append(X,X_projected,axis=0)\n",
    "    y_extended  = np.append(y,y)\n",
    "    return (X_extended, y_extended)\n",
    "    \n",
    "def augment_translation(X,y):\n",
    "    X_projected = translateImages(X,32,0.3)\n",
    "    X_extended  = np.append(X,X_projected,axis=0)\n",
    "    y_extended  = np.append(y,y)\n",
    "    return (X_extended, y_extended)\n",
    "\n",
    "\n",
    "def augment_rare_classes(X,y,numThresh):\n",
    "    X_extended = np.empty([0, X.shape[1], X.shape[2], X.shape[3]], dtype = X.dtype)\n",
    "    y_extended = np.empty([0], dtype = y.dtype)\n",
    "        \n",
    "    numClasses = 43\n",
    "    hist,bins = np.histogram(y,range(numClasses+1))\n",
    "    \n",
    "    for c in range(numClasses):\n",
    "        X_extended = np.append(X_extended, X[y == c], axis = 0)\n",
    "        y_extended = np.append(y_extended, np.full((X_extended.shape[0] - y_extended.shape[0]), c, dtype = int))\n",
    "        #augment only if less than a threshold\n",
    "        if hist[c]<numThresh:\n",
    "            batchSize = numThresh-hist[c]\n",
    "            print(\"Class:\",c)\n",
    "            print(\"Augmenting: Extra samples =\", batchSize)\n",
    "            \n",
    "            #Data augnmetation with Keras\n",
    "            datagen = ImageDataGenerator(\n",
    "            rotation_range=10,\n",
    "            width_shift_range=0.2,\n",
    "            height_shift_range=0.2,\n",
    "            zoom_range=0.3\n",
    "            )\n",
    "            \n",
    "            x_class = X[y==c]\n",
    "            y_class = np.full(x_class.shape[0], c, dtype = int)\n",
    "            \n",
    "            batches = 0\n",
    "            for new_x, new_y in datagen.flow(x_class, y_class, batch_size=64):\n",
    "                #X_extended = np.append(X_extended, new_x, axis = 0)\n",
    "                #y_extended = np.append(y_extended, new_y)\n",
    "                X_proj,y_proj     = augment_projective(new_x,new_y)\n",
    "                X_extended = np.append(X_extended, X_proj, axis = 0)\n",
    "                y_extended = np.append(y_extended, y_proj)\n",
    "                    \n",
    "                #if batches==0:\n",
    "                #    image = new_x[0].squeeze()\n",
    "                #    plt.figure(figsize=(1,1))\n",
    "                #    plt.imshow(image)\n",
    "\n",
    "                batches += 1\n",
    "                if batches >= batchSize / 64:\n",
    "                # we need to break the loop by hand because\n",
    "                # the generator loops indefinitely\n",
    "                    break\n",
    "    \n",
    "    return (X_extended, y_extended)\n",
    "\n",
    "def augment_persample(X,y, repsPerSample):\n",
    "    #X_extended = np.empty([0, X.shape[1], X.shape[2], X.shape[3]], dtype = X.dtype)\n",
    "    #y_extended = np.empty([0], dtype = y.dtype)\n",
    "    \n",
    "    X_extended = []\n",
    "    y_extended = []\n",
    "    \n",
    "    for i in range(0,X.shape[0]):\n",
    "       \n",
    "        if np.mod(i,1000)==0:\n",
    "            print(\"Sample \",i)\n",
    "            \n",
    "        image = X[i]\n",
    "        image = image.reshape((1,)+image.shape)\n",
    "                \n",
    "        #add the original sample\n",
    "        #X_extended = np.append(X_extended, image, axis = 0)\n",
    "        X_extended.append(image)\n",
    "        y_extended.append(y[i])\n",
    "        #print(np.shape(X_extended))\n",
    "                \n",
    "        \n",
    "        for reps in range(0,repsPerSample):  \n",
    "            d = random.uniform(-0.2,0.2)+1\n",
    "            X_new = zoomImages(image,d)\n",
    "            X_extended.append(X_new)\n",
    "            y_extended.append(y[i])\n",
    "            \n",
    "            X_new = translateImages(image,32,0.1)\n",
    "            X_extended.append(X_new)\n",
    "            y_extended.append(y[i])\n",
    "                       \n",
    "            X_new = rotateImages(image,0.3)\n",
    "            X_extended.append(X_new)\n",
    "            y_extended.append(y[i])\n",
    "                       \n",
    "            X_new = apply_projection_transform(image,32,0.1)\n",
    "            X_extended.append(X_new)\n",
    "            y_extended.append(y[i])\n",
    "                      \n",
    "    \n",
    "    print(len(X_extended))\n",
    "    X_ext  = np.array(X_extended)\n",
    "    X_ext = np.reshape(X_ext,[len(X_extended),32,32,1])\n",
    "    \n",
    "    y_ext  = np.array(y_extended)\n",
    "    return (X_ext, y_ext)\n",
    "    \n"
   ]
  },
  {
   "cell_type": "code",
   "execution_count": 6,
   "metadata": {},
   "outputs": [
    {
     "name": "stdout",
     "output_type": "stream",
     "text": [
      "Sample  0\n",
      "Sample  1000\n",
      "Sample  2000\n",
      "Sample  3000\n",
      "Sample  4000\n",
      "Sample  5000\n",
      "Sample  6000\n",
      "Sample  7000\n",
      "Sample  8000\n",
      "Sample  9000\n",
      "Sample  10000\n",
      "Sample  11000\n",
      "Sample  12000\n",
      "Sample  13000\n",
      "Sample  14000\n",
      "Sample  15000\n",
      "Sample  16000\n",
      "Sample  17000\n",
      "Sample  18000\n",
      "Sample  19000\n",
      "Sample  20000\n",
      "Sample  21000\n",
      "Sample  22000\n",
      "Sample  23000\n",
      "Sample  24000\n",
      "Sample  25000\n",
      "Sample  26000\n",
      "Sample  27000\n",
      "Sample  28000\n",
      "Sample  29000\n",
      "Sample  30000\n",
      "Sample  31000\n",
      "Sample  32000\n",
      "Sample  33000\n",
      "Sample  34000\n",
      "173995\n",
      "Extended Set with per sampel augmentation:   173995 samples\n"
     ]
    }
   ],
   "source": [
    "\n",
    "#X_extended, y_extended  = augment_rare_classes(X_train, y_train,1000)\n",
    "#print(\"Extended Set with balanced:   {} samples\".format(len(X_extended)))\n",
    "#X_train = X_extended\n",
    "#y_train = y_extended\n",
    "\n",
    "X_extended, y_extended  = augment_persample(X_train, y_train,1)\n",
    "print(\"Extended Set with per sampel augmentation:   {} samples\".format(len(X_extended)))\n",
    "X_train = X_extended\n",
    "y_train = y_extended\n"
   ]
  },
  {
   "cell_type": "code",
   "execution_count": 7,
   "metadata": {},
   "outputs": [
    {
     "name": "stdout",
     "output_type": "stream",
     "text": [
      "(173995, 32, 32, 1)\n",
      "13\n",
      "1\n",
      "1\n",
      "18\n",
      "8\n"
     ]
    },
    {
     "data": {
      "image/png": "[encoded data removed]",
      "text/plain": [
       "<matplotlib.figure.Figure at 0x7ffa6c477198>"
      ]
     },
     "metadata": {},
     "output_type": "display_data"
    }
   ],
   "source": [
    "import numpy.random as random\n",
    "import matplotlib.pyplot as plt\n",
    "from matplotlib.pyplot import figure, imshow, axis\n",
    "%matplotlib inline\n",
    "\n",
    "fig = figure()\n",
    "rows = 5\n",
    "cols = 5\n",
    "for j in range(rows):\n",
    "    index = random.randint(0, len(X_test))\n",
    "    for i in range(cols):\n",
    "        a=fig.add_subplot(rows,cols,cols*j+i+1)\n",
    "        image = X_test[index+i].squeeze()\n",
    "        imshow(image,cmap='Greys_r')\n",
    "    #axis('off')\n",
    "    print(y_test[index+i])\n",
    "    "
   ]
  },
  {
   "cell_type": "code",
   "execution_count": null,
   "metadata": {
    "collapsed": true
   },
   "outputs": [],
   "source": [
    "plt.hist(y_train, bins='auto')  # arguments are passed to np.histogram\n",
    "plt.title(\"Distribution of training set classes after augmentation\")\n",
    "plt.show()"
   ]
  },
  {
   "cell_type": "code",
   "execution_count": null,
   "metadata": {
    "collapsed": true
   },
   "outputs": [],
   "source": [
    "augmented ={}\n",
    "augmented[\"features\"] = X_train\n",
    "augmented[\"labels\"] = y_train\n",
    "training_file = './traffic-signs-data/augmented.p'\n",
    "pickle.dump( augmented, open( training_file, \"wb\" ) )"
   ]
  },
  {
   "cell_type": "markdown",
   "metadata": {},
   "source": [
    "### Model Architecture"
   ]
  },
  {
   "cell_type": "code",
   "execution_count": 13,
   "metadata": {
    "collapsed": true
   },
   "outputs": [],
   "source": [
    "### Define your architecture here.\n",
    "### Feel free to use as many code cells as needed.\n",
    "import tensorflow as tf\n",
    "from tensorflow.contrib.layers import flatten\n",
    "\n",
    "def conv2d(x, W, b, strides=1):\n",
    "    x = tf.nn.conv2d(x, W, strides=[1, strides, strides, 1], padding='VALID')\n",
    "    x = tf.nn.bias_add(x, b)\n",
    "    return x\n",
    "                      \n",
    "def maxpool2d(x, k=2):\n",
    "    return tf.nn.max_pool(\n",
    "        x,\n",
    "        ksize=[1, k, k, 1],\n",
    "        strides=[1, k, k, 1],\n",
    "        padding='VALID')\n",
    "\n",
    "def LeNet(x,keep_prob):    \n",
    "    # Arguments used for tf.truncated_normal, randomly defines variables for the weights and biases for each layer\n",
    "    mu = 0\n",
    "    sigma = 0.1\n",
    "    \n",
    "    # SOLUTION: Layer 1: Convolutional. Input = 32x32x1. Output = 28x28x20.\n",
    "    conv1_W = tf.Variable(tf.truncated_normal(shape=(5, 5, 1, 20), mean = mu, stddev = sigma))\n",
    "    conv1_b = tf.Variable(tf.zeros(20))\n",
    "    conv1   = tf.nn.conv2d(x, conv1_W, strides=[1, 1, 1, 1], padding='VALID') + conv1_b\n",
    "\n",
    "    # SOLUTION: Activation.\n",
    "    conv1 = tf.nn.relu(conv1)\n",
    "\n",
    "    # SOLUTION: Pooling. Input = 28x28x20. Output = 14x14x20.\n",
    "    conv1 = tf.nn.max_pool(conv1, ksize=[1, 2, 2, 1], strides=[1, 2, 2, 1], padding='VALID')\n",
    "\n",
    "    # SOLUTION: Layer 2: Convolutional. Output = 10x10x36.\n",
    "    conv2_W = tf.Variable(tf.truncated_normal(shape=(5, 5, 20, 36), mean = mu, stddev = sigma))\n",
    "    conv2_b = tf.Variable(tf.zeros(36))\n",
    "    conv2   = tf.nn.conv2d(conv1, conv2_W, strides=[1, 1, 1, 1], padding='VALID') + conv2_b\n",
    "    \n",
    "    # SOLUTION: Activation.\n",
    "    conv2 = tf.nn.relu(conv2)\n",
    "\n",
    "    # SOLUTION: Pooling. Input = 10x10x16. Output = 5x5x36.\n",
    "    conv2 = tf.nn.max_pool(conv2, ksize=[1, 2, 2, 1], strides=[1, 2, 2, 1], padding='VALID')\n",
    "\n",
    "    # SOLUTION: Flatten. Input = 5x5x36. Output = 900.\n",
    "    fc0   = flatten(conv2)\n",
    "    \n",
    "    # SOLUTION: Layer 3: Fully Connected. Input = 900. Output = 120.\n",
    "    fc1_W = tf.Variable(tf.truncated_normal(shape=(900, 120), mean = mu, stddev = sigma))\n",
    "    fc1_b = tf.Variable(tf.zeros(120))\n",
    "    fc1   = tf.matmul(fc0, fc1_W) + fc1_b\n",
    "    \n",
    "    # SOLUTION: Activation.\n",
    "    fc1    = tf.nn.relu(fc1)\n",
    "    fc1    = tf.nn.dropout(fc1, keep_prob)\n",
    "\n",
    "\n",
    "    # SOLUTION: Layer 4: Fully Connected. Input = 120. Output = 84.\n",
    "    fc2_W  = tf.Variable(tf.truncated_normal(shape=(120, 84), mean = mu, stddev = sigma))\n",
    "    fc2_b  = tf.Variable(tf.zeros(84))\n",
    "    fc2    = tf.matmul(fc1, fc2_W) + fc2_b\n",
    "    \n",
    "    # SOLUTION: Activation.\n",
    "    fc2    = tf.nn.relu(fc2)\n",
    "    fc2    = tf.nn.dropout(fc2, keep_prob)\n",
    "\n",
    "    # SOLUTION: Layer 5: Fully Connected. Input = 84. Output = 43.\n",
    "    fc3_W  = tf.Variable(tf.truncated_normal(shape=(84, 43), mean = mu, stddev = sigma))\n",
    "    fc3_b  = tf.Variable(tf.zeros(43))\n",
    "    logits = tf.matmul(fc2, fc3_W) + fc3_b\n",
    "    \n",
    "    return logits"
   ]
  },
  {
   "cell_type": "markdown",
   "metadata": {},
   "source": [
    "### Train, Validate and Test the Model"
   ]
  },
  {
   "cell_type": "markdown",
   "metadata": {},
   "source": [
    "A validation set can be used to assess how well the model is performing. A low accuracy on the training and validation\n",
    "sets imply underfitting. A high accuracy on the training set but low accuracy on the validation set implies overfitting."
   ]
  },
  {
   "cell_type": "code",
   "execution_count": null,
   "metadata": {},
   "outputs": [
    {
     "name": "stdout",
     "output_type": "stream",
     "text": [
      "Training...\n",
      "\n",
      "EPOCH 1 ...\n",
      "Validation Accuracy = 0.894\n",
      "\n",
      "EPOCH 2 ...\n",
      "Validation Accuracy = 0.940\n",
      "\n",
      "EPOCH 3 ...\n",
      "Validation Accuracy = 0.956\n",
      "\n",
      "EPOCH 4 ...\n",
      "Validation Accuracy = 0.971\n",
      "\n",
      "EPOCH 5 ...\n",
      "Validation Accuracy = 0.970\n",
      "\n",
      "EPOCH 6 ...\n",
      "Validation Accuracy = 0.969\n",
      "\n",
      "EPOCH 7 ...\n",
      "Validation Accuracy = 0.968\n",
      "\n",
      "EPOCH 8 ...\n",
      "Validation Accuracy = 0.972\n",
      "\n",
      "EPOCH 9 ...\n",
      "Validation Accuracy = 0.970\n",
      "\n",
      "EPOCH 10 ...\n",
      "Validation Accuracy = 0.974\n",
      "\n",
      "EPOCH 11 ...\n",
      "Validation Accuracy = 0.971\n",
      "\n"
     ]
    }
   ],
   "source": [
    "### Train your model here.\n",
    "### Calculate and report the accuracy on the training and validation set.\n",
    "### Once a final model architecture is selected, \n",
    "### the accuracy on the test set should be calculated and reported as well.\n",
    "### Feel free to use as many code cells as needed.\n",
    "\n",
    "from keras.preprocessing.image import ImageDataGenerator\n",
    "from sklearn.utils import shuffle\n",
    "\n",
    "EPOCHS = 20\n",
    "BATCH_SIZE = 128\n",
    "\n",
    "x = tf.placeholder(tf.float32, (None, 32, 32,1))\n",
    "y = tf.placeholder(tf.int32, (None))\n",
    "one_hot_y = tf.one_hot(y, 43)\n",
    "keep_prob = tf.placeholder(tf.float32)\n",
    "\n",
    "rate = 0.001\n",
    "\n",
    "logits = LeNet(x,keep_prob)\n",
    "cross_entropy = tf.nn.softmax_cross_entropy_with_logits(labels=one_hot_y, logits=logits)\n",
    "loss_operation = tf.reduce_mean(cross_entropy)\n",
    "optimizer = tf.train.AdamOptimizer(learning_rate = rate)\n",
    "training_operation = optimizer.minimize(loss_operation)\n",
    "\n",
    "correct_prediction = tf.equal(tf.argmax(logits, 1), tf.argmax(one_hot_y, 1))\n",
    "accuracy_operation = tf.reduce_mean(tf.cast(correct_prediction, tf.float32))\n",
    "saver = tf.train.Saver()\n",
    "\n",
    "#\n",
    "def evaluate(X_data, y_data):\n",
    "    num_examples = len(X_data)\n",
    "    total_accuracy = 0\n",
    "    sess = tf.get_default_session()\n",
    "    for offset in range(0, num_examples, BATCH_SIZE):\n",
    "        batch_x, batch_y = X_data[offset:offset+BATCH_SIZE], y_data[offset:offset+BATCH_SIZE]\n",
    "        accuracy = sess.run(accuracy_operation, feed_dict={x: batch_x, y: batch_y, keep_prob: 1})\n",
    "        total_accuracy += (accuracy * len(batch_x))\n",
    "    return total_accuracy / num_examples\n",
    "\n",
    "       \n",
    "#Training on the model\n",
    "with tf.Session() as sess:\n",
    "    sess.run(tf.global_variables_initializer())\n",
    "    num_examples = len(X_train)\n",
    "   \n",
    "    print(\"Training...\")\n",
    "    print()\n",
    "    for i in range(EPOCHS):\n",
    "        X_train, y_train = shuffle(X_train, y_train)\n",
    "        for offset in range(0, num_examples, BATCH_SIZE):\n",
    "            end = offset + BATCH_SIZE\n",
    "            batch_x, batch_y = X_train[offset:end], y_train[offset:end]\n",
    "            sess.run(training_operation, feed_dict={x: batch_x, y: batch_y,  keep_prob: 0.5})\n",
    "           \n",
    "        validation_accuracy = evaluate(X_valid, y_valid)\n",
    "        print(\"EPOCH {} ...\".format(i+1))\n",
    "        print(\"Validation Accuracy = {:.3f}\".format(validation_accuracy))\n",
    "        print()\n",
    "    \n",
    "    train_accuracy = evaluate(X_train, y_train)\n",
    "    print(\"Training Accuracy = {:.3f}\".format(train_accuracy))\n",
    "    print()\n",
    "    \n",
    "    test_accuracy = evaluate(X_test, y_test)\n",
    "    print(\"Testing Accuracy = {:.3f}\".format(test_accuracy))\n",
    "    print()\n",
    "            \n",
    "    saver.save(sess, './trainedModel')\n",
    "    print(\"Model saved\")"
   ]
  },
  {
   "cell_type": "markdown",
   "metadata": {},
   "source": [
    "---\n",
    "\n",
    "## Step 3: Test a Model on New Images\n",
    "\n",
    "To give yourself more insight into how your model is working, download at least five pictures of German traffic signs from the web and use your model to predict the traffic sign type.\n",
    "\n",
    "You may find `signnames.csv` useful as it contains mappings from the class id (integer) to the actual sign name."
   ]
  },
  {
   "cell_type": "markdown",
   "metadata": {},
   "source": [
    "### Load and Output the Images"
   ]
  },
  {
   "cell_type": "code",
   "execution_count": 187,
   "metadata": {},
   "outputs": [
    {
     "data": {
      "image/png": "[encoded data removed]",
      "text/plain": [
       "<matplotlib.figure.Figure at 0x7f8a4a825978>"
      ]
     },
     "metadata": {},
     "output_type": "display_data"
    }
   ],
   "source": [
    "### Load the images and plot them here.\n",
    "### Feel free to use as many code cells as needed.\n",
    "\n",
    "import numpy as np\n",
    "from scipy import misc\n",
    "import matplotlib.pyplot as plt\n",
    "from matplotlib.pyplot import figure, imshow, axis\n",
    "import matplotlib.image as mpimg\n",
    "\n",
    "X_test_new = np.empty([5,32,32,3])\n",
    "y_test_new = np.empty([0], dtype=int)\n",
    "\n",
    "X_test_new[0] = mpimg.imread('./test_images_web/res-speedlimit-30.png')\n",
    "y_test_new = np.append(y_test_new,[1])\n",
    "\n",
    "X_test_new[1] = mpimg.imread('./test_images_web/res-speedlimit-70.png')\n",
    "y_test_new = np.append(y_test_new,[4])\n",
    "\n",
    "X_test_new[2] = mpimg.imread('./test_images_web/res-speedlimit-80.png')\n",
    "y_test_new = np.append(y_test_new,[5])\n",
    "\n",
    "X_test_new[3] = mpimg.imread('./test_images_web/res-go-straight-right.png')\n",
    "y_test_new = np.append(y_test_new,[36])\n",
    "\n",
    "X_test_new[4] = mpimg.imread('./test_images_web/res-slippery-road.png')\n",
    "y_test_new = np.append(y_test_new,[23])\n",
    "\n",
    "fig = figure()\n",
    "for i in range(0,5):\n",
    "    a=fig.add_subplot(1,5,i+1)\n",
    "    image = X_test_new[i]\n",
    "    imshow(image)"
   ]
  },
  {
   "cell_type": "code",
   "execution_count": 188,
   "metadata": {},
   "outputs": [
    {
     "name": "stderr",
     "output_type": "stream",
     "text": [
      "/home/carnd/anaconda3/envs/carnd-term1/lib/python3.5/site-packages/skimage/util/dtype.py:122: UserWarning: Possible precision loss when converting from float64 to uint16\n",
      "  .format(dtypeobj_in, dtypeobj_out))\n"
     ]
    },
    {
     "data": {
      "image/png": "[encoded data removed]",
      "text/plain": [
       "<matplotlib.figure.Figure at 0x7f89910b9748>"
      ]
     },
     "metadata": {},
     "output_type": "display_data"
    }
   ],
   "source": [
    "#normalize the test images\n",
    "from skimage import exposure\n",
    "import matplotlib.pyplot as plt\n",
    "from matplotlib.pyplot import figure, imshow, axis\n",
    "\n",
    "X_test_new  = 0.299 * X_test_new[:, :, :, 0] + 0.587 * X_test_new[:, :, :, 1] + 0.114 * X_test_new[:, :, :, 2]\n",
    "X_test_new  = (X_test_new-128.0)/128.0\n",
    "\n",
    "#reshape the array\n",
    "X_test_new  = X_test_new.reshape(X_test_new.shape + (1,))\n",
    "\n",
    "fig = figure()\n",
    "for i in range(0,5):\n",
    "    a=fig.add_subplot(1,5,i+1)\n",
    "    image = X_test_new[i].squeeze()\n",
    "    imshow(image,cmap='Greys_r')\n",
    "    \n",
    "    "
   ]
  },
  {
   "cell_type": "markdown",
   "metadata": {},
   "source": [
    "### Predict the Sign Type for Each Image"
   ]
  },
  {
   "cell_type": "code",
   "execution_count": 189,
   "metadata": {},
   "outputs": [
    {
     "name": "stdout",
     "output_type": "stream",
     "text": [
      "Test Accuracy = 1.000\n"
     ]
    }
   ],
   "source": [
    "### Run the predictions here and use the model to output the prediction for each image.\n",
    "### Make sure to pre-process the images with the same pre-processing pipeline used earlier.\n",
    "### Feel free to use as many code cells as needed.\n",
    "\n",
    "with tf.Session() as sess:\n",
    "    saver.restore(sess, tf.train.latest_checkpoint('.'))\n",
    "\n",
    "    test_accuracy = evaluate(X_test_new, y_test_new)\n",
    "    print(\"Test Accuracy = {:.3f}\".format(test_accuracy))\n",
    "\n"
   ]
  },
  {
   "cell_type": "markdown",
   "metadata": {},
   "source": [
    "### Analyze Performance"
   ]
  },
  {
   "cell_type": "code",
   "execution_count": null,
   "metadata": {
    "collapsed": true
   },
   "outputs": [],
   "source": [
    "### Calculate the accuracy for these 5 new images. \n",
    "### For example, if the model predicted 1 out of 5 signs correctly, it's 20% accurate on these new images."
   ]
  },
  {
   "cell_type": "markdown",
   "metadata": {},
   "source": [
    "### Output Top 5 Softmax Probabilities For Each Image Found on the Web"
   ]
  },
  {
   "cell_type": "markdown",
   "metadata": {},
   "source": [
    "For each of the new images, print out the model's softmax probabilities to show the **certainty** of the model's predictions (limit the output to the top 5 probabilities for each image). [`tf.nn.top_k`](https://www.tensorflow.org/versions/r0.12/api_docs/python/nn.html#top_k) could prove helpful here. \n",
    "\n",
    "The example below demonstrates how tf.nn.top_k can be used to find the top k predictions for each image.\n",
    "\n",
    "`tf.nn.top_k` will return the values and indices (class ids) of the top k predictions. So if k=3, for each sign, it'll return the 3 largest probabilities (out of a possible 43) and the correspoding class ids.\n",
    "\n",
    "Take this numpy array as an example. The values in the array represent predictions. The array contains softmax probabilities for five candidate images with six possible classes. `tf.nn.top_k` is used to choose the three classes with the highest probability:\n",
    "\n",
    "```\n",
    "# (5, 6) array\n",
    "a = np.array([[ 0.24879643,  0.07032244,  0.12641572,  0.34763842,  0.07893497,\n",
    "         0.12789202],\n",
    "       [ 0.28086119,  0.27569815,  0.08594638,  0.0178669 ,  0.18063401,\n",
    "         0.15899337],\n",
    "       [ 0.26076848,  0.23664738,  0.08020603,  0.07001922,  0.1134371 ,\n",
    "         0.23892179],\n",
    "       [ 0.11943333,  0.29198961,  0.02605103,  0.26234032,  0.1351348 ,\n",
    "         0.16505091],\n",
    "       [ 0.09561176,  0.34396535,  0.0643941 ,  0.16240774,  0.24206137,\n",
    "         0.09155967]])\n",
    "```\n",
    "\n",
    "Running it through `sess.run(tf.nn.top_k(tf.constant(a), k=3))` produces:\n",
    "\n",
    "```\n",
    "TopKV2(values=array([[ 0.34763842,  0.24879643,  0.12789202],\n",
    "       [ 0.28086119,  0.27569815,  0.18063401],\n",
    "       [ 0.26076848,  0.23892179,  0.23664738],\n",
    "       [ 0.29198961,  0.26234032,  0.16505091],\n",
    "       [ 0.34396535,  0.24206137,  0.16240774]]), indices=array([[3, 0, 5],\n",
    "       [0, 1, 4],\n",
    "       [0, 5, 1],\n",
    "       [1, 3, 5],\n",
    "       [1, 4, 3]], dtype=int32))\n",
    "```\n",
    "\n",
    "Looking just at the first row we get `[ 0.34763842,  0.24879643,  0.12789202]`, you can confirm these are the 3 largest probabilities in `a`. You'll also notice `[3, 0, 5]` are the corresponding indices."
   ]
  },
  {
   "cell_type": "code",
   "execution_count": 190,
   "metadata": {},
   "outputs": [
    {
     "name": "stdout",
     "output_type": "stream",
     "text": [
      "TopKV2(values=array([[ 19.77498436,  10.87892532,   7.30450535,   7.1293478 ,   5.7788682 ],\n",
      "       [ 25.27271843,  14.4039011 ,  10.95147324,   6.66784096,\n",
      "         -1.46927178],\n",
      "       [ 12.06842709,  11.66035271,   7.88974571,   1.34756613,  -0.4637202 ],\n",
      "       [  5.75906992,   3.15054584,   3.1439991 ,  -0.71186364,\n",
      "         -0.78489411],\n",
      "       [ 14.69659901,  14.44020844,   9.37708473,   7.93039608,\n",
      "          7.71073771]], dtype=float32), indices=array([[ 1,  2,  4,  0,  5],\n",
      "       [ 4,  0,  1,  8,  5],\n",
      "       [ 5,  3,  2, 31, 10],\n",
      "       [36, 35, 34, 12, 33],\n",
      "       [23, 31, 19, 21, 29]], dtype=int32))\n"
     ]
    }
   ],
   "source": [
    "### Print out the top five softmax probabilities for the predictions on the German traffic sign images found on the web. \n",
    "### Feel free to use as many code cells as needed.\n",
    "\n",
    "with tf.Session() as sess:\n",
    "    saver.restore(sess, tf.train.latest_checkpoint('.'))\n",
    "    \n",
    "    probs = sess.run(logits,feed_dict={x: X_test_new, y: y_test_new,  keep_prob: 1})\n",
    "    result = sess.run(tf.nn.top_k(probs, k=5)) \n",
    "    print(result)\n",
    "    "
   ]
  },
  {
   "cell_type": "markdown",
   "metadata": {},
   "source": [
    "### Project Writeup\n",
    "\n",
    "Once you have completed the code implementation, document your results in a project writeup using this [template](https://github.com/udacity/CarND-Traffic-Sign-Classifier-Project/blob/master/writeup_template.md) as a guide. The writeup can be in a markdown or pdf file. "
   ]
  },
  {
   "cell_type": "markdown",
   "metadata": {},
   "source": [
    "> **Note**: Once you have completed all of the code implementations and successfully answered each question above, you may finalize your work by exporting the iPython Notebook as an HTML document. You can do this by using the menu above and navigating to  \\n\",\n",
    "    \"**File -> Download as -> HTML (.html)**. Include the finished document along with this notebook as your submission."
   ]
  },
  {
   "cell_type": "markdown",
   "metadata": {},
   "source": [
    "---\n",
    "\n",
    "## Step 4 (Optional): Visualize the Neural Network's State with Test Images\n",
    "\n",
    " This Section is not required to complete but acts as an additional excersise for understaning the output of a neural network's weights. While neural networks can be a great learning device they are often referred to as a black box. We can understand what the weights of a neural network look like better by plotting their feature maps. After successfully training your neural network you can see what it's feature maps look like by plotting the output of the network's weight layers in response to a test stimuli image. From these plotted feature maps, it's possible to see what characteristics of an image the network finds interesting. For a sign, maybe the inner network feature maps react with high activation to the sign's boundary outline or to the contrast in the sign's painted symbol.\n",
    "\n",
    " Provided for you below is the function code that allows you to get the visualization output of any tensorflow weight layer you want. The inputs to the function should be a stimuli image, one used during training or a new one you provided, and then the tensorflow variable name that represents the layer's state during the training process, for instance if you wanted to see what the [LeNet lab's](https://classroom.udacity.com/nanodegrees/nd013/parts/fbf77062-5703-404e-b60c-95b78b2f3f9e/modules/6df7ae49-c61c-4bb2-a23e-6527e69209ec/lessons/601ae704-1035-4287-8b11-e2c2716217ad/concepts/d4aca031-508f-4e0b-b493-e7b706120f81) feature maps looked like for it's second convolutional layer you could enter conv2 as the tf_activation variable.\n",
    "\n",
    "For an example of what feature map outputs look like, check out NVIDIA's results in their paper [End-to-End Deep Learning for Self-Driving Cars](https://devblogs.nvidia.com/parallelforall/deep-learning-self-driving-cars/) in the section Visualization of internal CNN State. NVIDIA was able to show that their network's inner weights had high activations to road boundary lines by comparing feature maps from an image with a clear path to one without. Try experimenting with a similar test to show that your trained network's weights are looking for interesting features, whether it's looking at differences in feature maps from images with or without a sign, or even what feature maps look like in a trained network vs a completely untrained one on the same sign image.\n",
    "\n",
    "<figure>\n",
    " <img src=\"visualize_cnn.png\" width=\"380\" alt=\"Combined Image\" />\n",
    " <figcaption>\n",
    " <p></p> \n",
    " <p style=\"text-align: center;\"> Your output should look something like this (above)</p> \n",
    " </figcaption>\n",
    "</figure>\n",
    " <p></p> \n"
   ]
  },
  {
   "cell_type": "code",
   "execution_count": null,
   "metadata": {
    "collapsed": true
   },
   "outputs": [],
   "source": [
    "### Visualize your network's feature maps here.\n",
    "### Feel free to use as many code cells as needed.\n",
    "\n",
    "# image_input: the test image being fed into the network to produce the feature maps\n",
    "# tf_activation: should be a tf variable name used during your training procedure that represents the calculated state of a specific weight layer\n",
    "# activation_min/max: can be used to view the activation contrast in more detail, by default matplot sets min and max to the actual min and max values of the output\n",
    "# plt_num: used to plot out multiple different weight feature map sets on the same block, just extend the plt number for each new feature map entry\n",
    "\n",
    "def outputFeatureMap(image_input, tf_activation, activation_min=-1, activation_max=-1 ,plt_num=1):\n",
    "    # Here make sure to preprocess your image_input in a way your network expects\n",
    "    # with size, normalization, ect if needed\n",
    "    # image_input =\n",
    "    # Note: x should be the same name as your network's tensorflow data placeholder variable\n",
    "    # If you get an error tf_activation is not defined it may be having trouble accessing the variable from inside a function\n",
    "    activation = tf_activation.eval(session=sess,feed_dict={x : image_input})\n",
    "    featuremaps = activation.shape[3]\n",
    "    plt.figure(plt_num, figsize=(15,15))\n",
    "    for featuremap in range(featuremaps):\n",
    "        plt.subplot(6,8, featuremap+1) # sets the number of feature maps to show on each row and column\n",
    "        plt.title('FeatureMap ' + str(featuremap)) # displays the feature map number\n",
    "        if activation_min != -1 & activation_max != -1:\n",
    "            plt.imshow(activation[0,:,:, featuremap], interpolation=\"nearest\", vmin =activation_min, vmax=activation_max, cmap=\"gray\")\n",
    "        elif activation_max != -1:\n",
    "            plt.imshow(activation[0,:,:, featuremap], interpolation=\"nearest\", vmax=activation_max, cmap=\"gray\")\n",
    "        elif activation_min !=-1:\n",
    "            plt.imshow(activation[0,:,:, featuremap], interpolation=\"nearest\", vmin=activation_min, cmap=\"gray\")\n",
    "        else:\n",
    "            plt.imshow(activation[0,:,:, featuremap], interpolation=\"nearest\", cmap=\"gray\")"
   ]
  }
 ],
 "metadata": {
  "anaconda-cloud": {},
  "kernelspec": {
   "display_name": "Python 3",
   "language": "python",
   "name": "python3"
  },
  "language_info": {
   "codemirror_mode": {
    "name": "ipython",
    "version": 3
   },
   "file_extension": ".py",
   "mimetype": "text/x-python",
   "name": "python",
   "nbconvert_exporter": "python",
   "pygments_lexer": "ipython3",
   "version": "3.5.2"
  },
  "widgets": {
   "state": {},
   "version": "1.1.2"
  }
 },
 "nbformat": 4,
 "nbformat_minor": 1
}
